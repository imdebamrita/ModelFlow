{
 "cells": [
  {
   "cell_type": "markdown",
   "id": "0f134f07",
   "metadata": {},
   "source": [
    "## Import Dataset and Libraries"
   ]
  },
  {
   "cell_type": "code",
   "execution_count": 1,
   "id": "a2456e40",
   "metadata": {
    "_cell_guid": "b1076dfc-b9ad-4769-8c92-a6c4dae69d19",
    "_uuid": "8f2839f25d086af736a60e9eeb907d3b93b6e0e5",
    "execution": {
     "iopub.execute_input": "2023-05-16T17:30:08.249091Z",
     "iopub.status.busy": "2023-05-16T17:30:08.248583Z",
     "iopub.status.idle": "2023-05-16T17:30:08.264775Z",
     "shell.execute_reply": "2023-05-16T17:30:08.263399Z"
    },
    "papermill": {
     "duration": 0.034125,
     "end_time": "2023-05-16T17:30:08.267230",
     "exception": false,
     "start_time": "2023-05-16T17:30:08.233105",
     "status": "completed"
    },
    "tags": []
   },
   "outputs": [],
   "source": [
    "import numpy as np \n",
    "import pandas as pd "
   ]
  },
  {
   "cell_type": "code",
   "execution_count": 2,
   "id": "62849e3a",
   "metadata": {
    "execution": {
     "iopub.execute_input": "2023-05-16T17:30:08.295871Z",
     "iopub.status.busy": "2023-05-16T17:30:08.295470Z",
     "iopub.status.idle": "2023-05-16T17:30:08.350828Z",
     "shell.execute_reply": "2023-05-16T17:30:08.349699Z"
    },
    "papermill": {
     "duration": 0.072238,
     "end_time": "2023-05-16T17:30:08.353100",
     "exception": false,
     "start_time": "2023-05-16T17:30:08.280862",
     "status": "completed"
    },
    "tags": []
   },
   "outputs": [
    {
     "data": {
      "text/html": [
       "<div>\n",
       "<style scoped>\n",
       "    .dataframe tbody tr th:only-of-type {\n",
       "        vertical-align: middle;\n",
       "    }\n",
       "\n",
       "    .dataframe tbody tr th {\n",
       "        vertical-align: top;\n",
       "    }\n",
       "\n",
       "    .dataframe thead th {\n",
       "        text-align: right;\n",
       "    }\n",
       "</style>\n",
       "<table border=\"1\" class=\"dataframe\">\n",
       "  <thead>\n",
       "    <tr style=\"text-align: right;\">\n",
       "      <th></th>\n",
       "      <th>PassengerId</th>\n",
       "      <th>Survived</th>\n",
       "      <th>Pclass</th>\n",
       "      <th>Name</th>\n",
       "      <th>Sex</th>\n",
       "      <th>Age</th>\n",
       "      <th>SibSp</th>\n",
       "      <th>Parch</th>\n",
       "      <th>Ticket</th>\n",
       "      <th>Fare</th>\n",
       "      <th>Cabin</th>\n",
       "      <th>Embarked</th>\n",
       "    </tr>\n",
       "  </thead>\n",
       "  <tbody>\n",
       "    <tr>\n",
       "      <th>0</th>\n",
       "      <td>1</td>\n",
       "      <td>0</td>\n",
       "      <td>3</td>\n",
       "      <td>Braund, Mr. Owen Harris</td>\n",
       "      <td>male</td>\n",
       "      <td>22.0</td>\n",
       "      <td>1</td>\n",
       "      <td>0</td>\n",
       "      <td>A/5 21171</td>\n",
       "      <td>7.2500</td>\n",
       "      <td>NaN</td>\n",
       "      <td>S</td>\n",
       "    </tr>\n",
       "    <tr>\n",
       "      <th>1</th>\n",
       "      <td>2</td>\n",
       "      <td>1</td>\n",
       "      <td>1</td>\n",
       "      <td>Cumings, Mrs. John Bradley (Florence Briggs Th...</td>\n",
       "      <td>female</td>\n",
       "      <td>38.0</td>\n",
       "      <td>1</td>\n",
       "      <td>0</td>\n",
       "      <td>PC 17599</td>\n",
       "      <td>71.2833</td>\n",
       "      <td>C85</td>\n",
       "      <td>C</td>\n",
       "    </tr>\n",
       "    <tr>\n",
       "      <th>2</th>\n",
       "      <td>3</td>\n",
       "      <td>1</td>\n",
       "      <td>3</td>\n",
       "      <td>Heikkinen, Miss. Laina</td>\n",
       "      <td>female</td>\n",
       "      <td>26.0</td>\n",
       "      <td>0</td>\n",
       "      <td>0</td>\n",
       "      <td>STON/O2. 3101282</td>\n",
       "      <td>7.9250</td>\n",
       "      <td>NaN</td>\n",
       "      <td>S</td>\n",
       "    </tr>\n",
       "    <tr>\n",
       "      <th>3</th>\n",
       "      <td>4</td>\n",
       "      <td>1</td>\n",
       "      <td>1</td>\n",
       "      <td>Futrelle, Mrs. Jacques Heath (Lily May Peel)</td>\n",
       "      <td>female</td>\n",
       "      <td>35.0</td>\n",
       "      <td>1</td>\n",
       "      <td>0</td>\n",
       "      <td>113803</td>\n",
       "      <td>53.1000</td>\n",
       "      <td>C123</td>\n",
       "      <td>S</td>\n",
       "    </tr>\n",
       "    <tr>\n",
       "      <th>4</th>\n",
       "      <td>5</td>\n",
       "      <td>0</td>\n",
       "      <td>3</td>\n",
       "      <td>Allen, Mr. William Henry</td>\n",
       "      <td>male</td>\n",
       "      <td>35.0</td>\n",
       "      <td>0</td>\n",
       "      <td>0</td>\n",
       "      <td>373450</td>\n",
       "      <td>8.0500</td>\n",
       "      <td>NaN</td>\n",
       "      <td>S</td>\n",
       "    </tr>\n",
       "  </tbody>\n",
       "</table>\n",
       "</div>"
      ],
      "text/plain": [
       "   PassengerId  Survived  Pclass  \\\n",
       "0            1         0       3   \n",
       "1            2         1       1   \n",
       "2            3         1       3   \n",
       "3            4         1       1   \n",
       "4            5         0       3   \n",
       "\n",
       "                                                Name     Sex   Age  SibSp  \\\n",
       "0                            Braund, Mr. Owen Harris    male  22.0      1   \n",
       "1  Cumings, Mrs. John Bradley (Florence Briggs Th...  female  38.0      1   \n",
       "2                             Heikkinen, Miss. Laina  female  26.0      0   \n",
       "3       Futrelle, Mrs. Jacques Heath (Lily May Peel)  female  35.0      1   \n",
       "4                           Allen, Mr. William Henry    male  35.0      0   \n",
       "\n",
       "   Parch            Ticket     Fare Cabin Embarked  \n",
       "0      0         A/5 21171   7.2500   NaN        S  \n",
       "1      0          PC 17599  71.2833   C85        C  \n",
       "2      0  STON/O2. 3101282   7.9250   NaN        S  \n",
       "3      0            113803  53.1000  C123        S  \n",
       "4      0            373450   8.0500   NaN        S  "
      ]
     },
     "execution_count": 2,
     "metadata": {},
     "output_type": "execute_result"
    }
   ],
   "source": [
    "data = pd.read_csv(\"Titanic Dataset.csv\")\n",
    "data.head()"
   ]
  },
  {
   "cell_type": "code",
   "execution_count": 3,
   "id": "d91238ae",
   "metadata": {
    "execution": {
     "iopub.execute_input": "2023-05-16T17:30:08.382265Z",
     "iopub.status.busy": "2023-05-16T17:30:08.381875Z",
     "iopub.status.idle": "2023-05-16T17:30:08.405785Z",
     "shell.execute_reply": "2023-05-16T17:30:08.404679Z"
    },
    "papermill": {
     "duration": 0.041024,
     "end_time": "2023-05-16T17:30:08.407959",
     "exception": false,
     "start_time": "2023-05-16T17:30:08.366935",
     "status": "completed"
    },
    "tags": []
   },
   "outputs": [
    {
     "data": {
      "text/html": [
       "<div>\n",
       "<style scoped>\n",
       "    .dataframe tbody tr th:only-of-type {\n",
       "        vertical-align: middle;\n",
       "    }\n",
       "\n",
       "    .dataframe tbody tr th {\n",
       "        vertical-align: top;\n",
       "    }\n",
       "\n",
       "    .dataframe thead th {\n",
       "        text-align: right;\n",
       "    }\n",
       "</style>\n",
       "<table border=\"1\" class=\"dataframe\">\n",
       "  <thead>\n",
       "    <tr style=\"text-align: right;\">\n",
       "      <th></th>\n",
       "      <th>PassengerId</th>\n",
       "      <th>Pclass</th>\n",
       "      <th>Name</th>\n",
       "      <th>Sex</th>\n",
       "      <th>Age</th>\n",
       "      <th>SibSp</th>\n",
       "      <th>Parch</th>\n",
       "      <th>Ticket</th>\n",
       "      <th>Fare</th>\n",
       "      <th>Cabin</th>\n",
       "      <th>Embarked</th>\n",
       "    </tr>\n",
       "  </thead>\n",
       "  <tbody>\n",
       "    <tr>\n",
       "      <th>0</th>\n",
       "      <td>892</td>\n",
       "      <td>3</td>\n",
       "      <td>Kelly, Mr. James</td>\n",
       "      <td>male</td>\n",
       "      <td>34.5</td>\n",
       "      <td>0</td>\n",
       "      <td>0</td>\n",
       "      <td>330911</td>\n",
       "      <td>7.8292</td>\n",
       "      <td>NaN</td>\n",
       "      <td>Q</td>\n",
       "    </tr>\n",
       "    <tr>\n",
       "      <th>1</th>\n",
       "      <td>893</td>\n",
       "      <td>3</td>\n",
       "      <td>Wilkes, Mrs. James (Ellen Needs)</td>\n",
       "      <td>female</td>\n",
       "      <td>47.0</td>\n",
       "      <td>1</td>\n",
       "      <td>0</td>\n",
       "      <td>363272</td>\n",
       "      <td>7.0000</td>\n",
       "      <td>NaN</td>\n",
       "      <td>S</td>\n",
       "    </tr>\n",
       "    <tr>\n",
       "      <th>2</th>\n",
       "      <td>894</td>\n",
       "      <td>2</td>\n",
       "      <td>Myles, Mr. Thomas Francis</td>\n",
       "      <td>male</td>\n",
       "      <td>62.0</td>\n",
       "      <td>0</td>\n",
       "      <td>0</td>\n",
       "      <td>240276</td>\n",
       "      <td>9.6875</td>\n",
       "      <td>NaN</td>\n",
       "      <td>Q</td>\n",
       "    </tr>\n",
       "    <tr>\n",
       "      <th>3</th>\n",
       "      <td>895</td>\n",
       "      <td>3</td>\n",
       "      <td>Wirz, Mr. Albert</td>\n",
       "      <td>male</td>\n",
       "      <td>27.0</td>\n",
       "      <td>0</td>\n",
       "      <td>0</td>\n",
       "      <td>315154</td>\n",
       "      <td>8.6625</td>\n",
       "      <td>NaN</td>\n",
       "      <td>S</td>\n",
       "    </tr>\n",
       "    <tr>\n",
       "      <th>4</th>\n",
       "      <td>896</td>\n",
       "      <td>3</td>\n",
       "      <td>Hirvonen, Mrs. Alexander (Helga E Lindqvist)</td>\n",
       "      <td>female</td>\n",
       "      <td>22.0</td>\n",
       "      <td>1</td>\n",
       "      <td>1</td>\n",
       "      <td>3101298</td>\n",
       "      <td>12.2875</td>\n",
       "      <td>NaN</td>\n",
       "      <td>S</td>\n",
       "    </tr>\n",
       "  </tbody>\n",
       "</table>\n",
       "</div>"
      ],
      "text/plain": [
       "   PassengerId  Pclass                                          Name     Sex  \\\n",
       "0          892       3                              Kelly, Mr. James    male   \n",
       "1          893       3              Wilkes, Mrs. James (Ellen Needs)  female   \n",
       "2          894       2                     Myles, Mr. Thomas Francis    male   \n",
       "3          895       3                              Wirz, Mr. Albert    male   \n",
       "4          896       3  Hirvonen, Mrs. Alexander (Helga E Lindqvist)  female   \n",
       "\n",
       "    Age  SibSp  Parch   Ticket     Fare Cabin Embarked  \n",
       "0  34.5      0      0   330911   7.8292   NaN        Q  \n",
       "1  47.0      1      0   363272   7.0000   NaN        S  \n",
       "2  62.0      0      0   240276   9.6875   NaN        Q  \n",
       "3  27.0      0      0   315154   8.6625   NaN        S  \n",
       "4  22.0      1      1  3101298  12.2875   NaN        S  "
      ]
     },
     "execution_count": 3,
     "metadata": {},
     "output_type": "execute_result"
    }
   ],
   "source": [
    "test_data = pd.read_csv(\"/kaggle/input/titanic/test.csv\")\n",
    "test_data.head()"
   ]
  },
  {
   "cell_type": "markdown",
   "id": "b5e55d86",
   "metadata": {},
   "source": [
    "## Data Visualisation"
   ]
  },
  {
   "cell_type": "code",
   "execution_count": 7,
   "id": "baf7e0b4",
   "metadata": {},
   "outputs": [],
   "source": [
    "import matplotlib.pyplot as plt\n",
    "import seaborn as sns"
   ]
  },
  {
   "cell_type": "code",
   "execution_count": 5,
   "id": "f50f4210",
   "metadata": {
    "execution": {
     "iopub.execute_input": "2023-05-16T17:30:08.437627Z",
     "iopub.status.busy": "2023-05-16T17:30:08.437239Z",
     "iopub.status.idle": "2023-05-16T17:30:09.702705Z",
     "shell.execute_reply": "2023-05-16T17:30:09.701556Z"
    },
    "papermill": {
     "duration": 1.283648,
     "end_time": "2023-05-16T17:30:09.705492",
     "exception": false,
     "start_time": "2023-05-16T17:30:08.421844",
     "status": "completed"
    },
    "tags": []
   },
   "outputs": [],
   "source": [
    "from sklearn.model_selection import train_test_split\n",
    "\n",
    "X_train, X_test, y_train, y_test = train_test_split(data.drop('Survived', axis=1), data['Survived'], test_size=0.25, random_state=42)"
   ]
  },
  {
   "cell_type": "code",
   "execution_count": 6,
   "id": "ae59ab09",
   "metadata": {
    "execution": {
     "iopub.execute_input": "2023-05-16T17:30:09.735711Z",
     "iopub.status.busy": "2023-05-16T17:30:09.734915Z",
     "iopub.status.idle": "2023-05-16T17:30:09.752850Z",
     "shell.execute_reply": "2023-05-16T17:30:09.751782Z"
    },
    "papermill": {
     "duration": 0.035606,
     "end_time": "2023-05-16T17:30:09.755060",
     "exception": false,
     "start_time": "2023-05-16T17:30:09.719454",
     "status": "completed"
    },
    "tags": []
   },
   "outputs": [
    {
     "data": {
      "text/html": [
       "<div>\n",
       "<style scoped>\n",
       "    .dataframe tbody tr th:only-of-type {\n",
       "        vertical-align: middle;\n",
       "    }\n",
       "\n",
       "    .dataframe tbody tr th {\n",
       "        vertical-align: top;\n",
       "    }\n",
       "\n",
       "    .dataframe thead th {\n",
       "        text-align: right;\n",
       "    }\n",
       "</style>\n",
       "<table border=\"1\" class=\"dataframe\">\n",
       "  <thead>\n",
       "    <tr style=\"text-align: right;\">\n",
       "      <th></th>\n",
       "      <th>PassengerId</th>\n",
       "      <th>Pclass</th>\n",
       "      <th>Name</th>\n",
       "      <th>Sex</th>\n",
       "      <th>Age</th>\n",
       "      <th>SibSp</th>\n",
       "      <th>Parch</th>\n",
       "      <th>Ticket</th>\n",
       "      <th>Fare</th>\n",
       "      <th>Cabin</th>\n",
       "      <th>Embarked</th>\n",
       "    </tr>\n",
       "  </thead>\n",
       "  <tbody>\n",
       "    <tr>\n",
       "      <th>298</th>\n",
       "      <td>299</td>\n",
       "      <td>1</td>\n",
       "      <td>Saalfeld, Mr. Adolphe</td>\n",
       "      <td>male</td>\n",
       "      <td>NaN</td>\n",
       "      <td>0</td>\n",
       "      <td>0</td>\n",
       "      <td>19988</td>\n",
       "      <td>30.5000</td>\n",
       "      <td>C106</td>\n",
       "      <td>S</td>\n",
       "    </tr>\n",
       "    <tr>\n",
       "      <th>884</th>\n",
       "      <td>885</td>\n",
       "      <td>3</td>\n",
       "      <td>Sutehall, Mr. Henry Jr</td>\n",
       "      <td>male</td>\n",
       "      <td>25.00</td>\n",
       "      <td>0</td>\n",
       "      <td>0</td>\n",
       "      <td>SOTON/OQ 392076</td>\n",
       "      <td>7.0500</td>\n",
       "      <td>NaN</td>\n",
       "      <td>S</td>\n",
       "    </tr>\n",
       "    <tr>\n",
       "      <th>247</th>\n",
       "      <td>248</td>\n",
       "      <td>2</td>\n",
       "      <td>Hamalainen, Mrs. William (Anna)</td>\n",
       "      <td>female</td>\n",
       "      <td>24.00</td>\n",
       "      <td>0</td>\n",
       "      <td>2</td>\n",
       "      <td>250649</td>\n",
       "      <td>14.5000</td>\n",
       "      <td>NaN</td>\n",
       "      <td>S</td>\n",
       "    </tr>\n",
       "    <tr>\n",
       "      <th>478</th>\n",
       "      <td>479</td>\n",
       "      <td>3</td>\n",
       "      <td>Karlsson, Mr. Nils August</td>\n",
       "      <td>male</td>\n",
       "      <td>22.00</td>\n",
       "      <td>0</td>\n",
       "      <td>0</td>\n",
       "      <td>350060</td>\n",
       "      <td>7.5208</td>\n",
       "      <td>NaN</td>\n",
       "      <td>S</td>\n",
       "    </tr>\n",
       "    <tr>\n",
       "      <th>305</th>\n",
       "      <td>306</td>\n",
       "      <td>1</td>\n",
       "      <td>Allison, Master. Hudson Trevor</td>\n",
       "      <td>male</td>\n",
       "      <td>0.92</td>\n",
       "      <td>1</td>\n",
       "      <td>2</td>\n",
       "      <td>113781</td>\n",
       "      <td>151.5500</td>\n",
       "      <td>C22 C26</td>\n",
       "      <td>S</td>\n",
       "    </tr>\n",
       "  </tbody>\n",
       "</table>\n",
       "</div>"
      ],
      "text/plain": [
       "     PassengerId  Pclass                             Name     Sex    Age  \\\n",
       "298          299       1            Saalfeld, Mr. Adolphe    male    NaN   \n",
       "884          885       3           Sutehall, Mr. Henry Jr    male  25.00   \n",
       "247          248       2  Hamalainen, Mrs. William (Anna)  female  24.00   \n",
       "478          479       3        Karlsson, Mr. Nils August    male  22.00   \n",
       "305          306       1   Allison, Master. Hudson Trevor    male   0.92   \n",
       "\n",
       "     SibSp  Parch           Ticket      Fare    Cabin Embarked  \n",
       "298      0      0            19988   30.5000     C106        S  \n",
       "884      0      0  SOTON/OQ 392076    7.0500      NaN        S  \n",
       "247      0      2           250649   14.5000      NaN        S  \n",
       "478      0      0           350060    7.5208      NaN        S  \n",
       "305      1      2           113781  151.5500  C22 C26        S  "
      ]
     },
     "execution_count": 6,
     "metadata": {},
     "output_type": "execute_result"
    }
   ],
   "source": [
    "X_train.head()"
   ]
  },
  {
   "cell_type": "code",
   "execution_count": 8,
   "id": "9d09aa37",
   "metadata": {
    "execution": {
     "iopub.execute_input": "2023-05-16T17:30:10.150416Z",
     "iopub.status.busy": "2023-05-16T17:30:10.149972Z",
     "iopub.status.idle": "2023-05-16T17:30:10.173555Z",
     "shell.execute_reply": "2023-05-16T17:30:10.172083Z"
    },
    "papermill": {
     "duration": 0.041369,
     "end_time": "2023-05-16T17:30:10.175894",
     "exception": false,
     "start_time": "2023-05-16T17:30:10.134525",
     "status": "completed"
    },
    "tags": []
   },
   "outputs": [
    {
     "name": "stdout",
     "output_type": "stream",
     "text": [
      "<class 'pandas.core.frame.DataFrame'>\n",
      "Index: 668 entries, 298 to 102\n",
      "Data columns (total 11 columns):\n",
      " #   Column       Non-Null Count  Dtype  \n",
      "---  ------       --------------  -----  \n",
      " 0   PassengerId  668 non-null    int64  \n",
      " 1   Pclass       668 non-null    int64  \n",
      " 2   Name         668 non-null    object \n",
      " 3   Sex          668 non-null    object \n",
      " 4   Age          536 non-null    float64\n",
      " 5   SibSp        668 non-null    int64  \n",
      " 6   Parch        668 non-null    int64  \n",
      " 7   Ticket       668 non-null    object \n",
      " 8   Fare         668 non-null    float64\n",
      " 9   Cabin        149 non-null    object \n",
      " 10  Embarked     666 non-null    object \n",
      "dtypes: float64(2), int64(4), object(5)\n",
      "memory usage: 62.6+ KB\n"
     ]
    }
   ],
   "source": [
    "X_train.info()"
   ]
  },
  {
   "cell_type": "code",
   "execution_count": 9,
   "id": "93572abd",
   "metadata": {
    "execution": {
     "iopub.execute_input": "2023-05-16T17:30:10.206484Z",
     "iopub.status.busy": "2023-05-16T17:30:10.206062Z",
     "iopub.status.idle": "2023-05-16T17:30:10.213811Z",
     "shell.execute_reply": "2023-05-16T17:30:10.212713Z"
    },
    "papermill": {
     "duration": 0.025852,
     "end_time": "2023-05-16T17:30:10.216195",
     "exception": false,
     "start_time": "2023-05-16T17:30:10.190343",
     "status": "completed"
    },
    "tags": []
   },
   "outputs": [
    {
     "data": {
      "text/plain": [
       "Index(['Name', 'Sex', 'Ticket', 'Cabin', 'Embarked'], dtype='object')"
      ]
     },
     "execution_count": 9,
     "metadata": {},
     "output_type": "execute_result"
    }
   ],
   "source": [
    "object_cols = X_train.select_dtypes('object').columns\n",
    "object_cols"
   ]
  },
  {
   "cell_type": "code",
   "execution_count": 10,
   "id": "9b41136d",
   "metadata": {
    "execution": {
     "iopub.execute_input": "2023-05-16T17:30:10.247627Z",
     "iopub.status.busy": "2023-05-16T17:30:10.247101Z",
     "iopub.status.idle": "2023-05-16T17:30:10.774301Z",
     "shell.execute_reply": "2023-05-16T17:30:10.773038Z"
    },
    "papermill": {
     "duration": 0.545512,
     "end_time": "2023-05-16T17:30:10.776766",
     "exception": false,
     "start_time": "2023-05-16T17:30:10.231254",
     "status": "completed"
    },
    "tags": []
   },
   "outputs": [
    {
     "data": {
      "text/plain": [
       "<Axes: >"
      ]
     },
     "execution_count": 10,
     "metadata": {},
     "output_type": "execute_result"
    },
    {
     "data": {
      "image/png": "[encoded data removed]",
      "text/plain": [
       "<Figure size 640x480 with 2 Axes>"
      ]
     },
     "metadata": {},
     "output_type": "display_data"
    }
   ],
   "source": [
    "sns.heatmap(X_train.isnull(), cmap='viridis')"
   ]
  },
  {
   "cell_type": "code",
   "execution_count": 11,
   "id": "b9f34e16",
   "metadata": {
    "execution": {
     "iopub.execute_input": "2023-05-16T17:30:10.849333Z",
     "iopub.status.busy": "2023-05-16T17:30:10.848933Z",
     "iopub.status.idle": "2023-05-16T17:30:11.088269Z",
     "shell.execute_reply": "2023-05-16T17:30:11.087135Z"
    },
    "papermill": {
     "duration": 0.258492,
     "end_time": "2023-05-16T17:30:11.090742",
     "exception": false,
     "start_time": "2023-05-16T17:30:10.832250",
     "status": "completed"
    },
    "tags": []
   },
   "outputs": [
    {
     "data": {
      "image/png": "[encoded data removed]",
      "text/plain": [
       "<Figure size 640x480 with 1 Axes>"
      ]
     },
     "metadata": {},
     "output_type": "display_data"
    }
   ],
   "source": [
    "plt.hist('Age', data=X_train, bins=40)\n",
    "plt.show()"
   ]
  },
  {
   "cell_type": "code",
   "execution_count": 12,
   "id": "c40dae92",
   "metadata": {
    "execution": {
     "iopub.execute_input": "2023-05-16T17:30:11.124732Z",
     "iopub.status.busy": "2023-05-16T17:30:11.124343Z",
     "iopub.status.idle": "2023-05-16T17:30:11.136886Z",
     "shell.execute_reply": "2023-05-16T17:30:11.135747Z"
    },
    "papermill": {
     "duration": 0.033127,
     "end_time": "2023-05-16T17:30:11.139519",
     "exception": false,
     "start_time": "2023-05-16T17:30:11.106392",
     "status": "completed"
    },
    "tags": []
   },
   "outputs": [
    {
     "data": {
      "text/plain": [
       "PassengerId    668\n",
       "Pclass           3\n",
       "Name           668\n",
       "Sex              2\n",
       "Age             82\n",
       "SibSp            7\n",
       "Parch            7\n",
       "Ticket         529\n",
       "Fare           211\n",
       "Cabin          113\n",
       "Embarked         3\n",
       "dtype: int64"
      ]
     },
     "execution_count": 12,
     "metadata": {},
     "output_type": "execute_result"
    }
   ],
   "source": [
    "X_train.nunique()"
   ]
  },
  {
   "cell_type": "code",
   "execution_count": 13,
   "id": "d8354104",
   "metadata": {
    "execution": {
     "iopub.execute_input": "2023-05-16T17:30:11.174223Z",
     "iopub.status.busy": "2023-05-16T17:30:11.173785Z",
     "iopub.status.idle": "2023-05-16T17:30:11.404002Z",
     "shell.execute_reply": "2023-05-16T17:30:11.402683Z"
    },
    "papermill": {
     "duration": 0.250932,
     "end_time": "2023-05-16T17:30:11.406802",
     "exception": false,
     "start_time": "2023-05-16T17:30:11.155870",
     "status": "completed"
    },
    "tags": []
   },
   "outputs": [
    {
     "data": {
      "text/plain": [
       "<Axes: xlabel='Embarked', ylabel='Age'>"
      ]
     },
     "execution_count": 13,
     "metadata": {},
     "output_type": "execute_result"
    },
    {
     "data": {
      "image/png": "[encoded data removed]",
      "text/plain": [
       "<Figure size 640x480 with 1 Axes>"
      ]
     },
     "metadata": {},
     "output_type": "display_data"
    }
   ],
   "source": [
    "sns.boxplot(data=X_train, y='Age', x='Embarked')"
   ]
  },
  {
   "cell_type": "code",
   "execution_count": 14,
   "id": "882eecc8",
   "metadata": {
    "execution": {
     "iopub.execute_input": "2023-05-16T17:30:11.441677Z",
     "iopub.status.busy": "2023-05-16T17:30:11.440975Z",
     "iopub.status.idle": "2023-05-16T17:30:11.696252Z",
     "shell.execute_reply": "2023-05-16T17:30:11.695354Z"
    },
    "papermill": {
     "duration": 0.275357,
     "end_time": "2023-05-16T17:30:11.698516",
     "exception": false,
     "start_time": "2023-05-16T17:30:11.423159",
     "status": "completed"
    },
    "tags": []
   },
   "outputs": [
    {
     "data": {
      "text/plain": [
       "<Axes: xlabel='Pclass', ylabel='Age'>"
      ]
     },
     "execution_count": 14,
     "metadata": {},
     "output_type": "execute_result"
    },
    {
     "data": {
      "image/png": "[encoded data removed]",
      "text/plain": [
       "<Figure size 640x480 with 1 Axes>"
      ]
     },
     "metadata": {},
     "output_type": "display_data"
    }
   ],
   "source": [
    "sns.boxplot(data=X_train, y='Age', x='Pclass')"
   ]
  },
  {
   "cell_type": "code",
   "execution_count": 15,
   "id": "99766fa5",
   "metadata": {
    "execution": {
     "iopub.execute_input": "2023-05-16T17:30:11.734058Z",
     "iopub.status.busy": "2023-05-16T17:30:11.733433Z",
     "iopub.status.idle": "2023-05-16T17:30:11.740790Z",
     "shell.execute_reply": "2023-05-16T17:30:11.739985Z"
    },
    "papermill": {
     "duration": 0.027517,
     "end_time": "2023-05-16T17:30:11.742776",
     "exception": false,
     "start_time": "2023-05-16T17:30:11.715259",
     "status": "completed"
    },
    "tags": []
   },
   "outputs": [
    {
     "data": {
      "text/plain": [
       "0    S\n",
       "Name: Embarked, dtype: object"
      ]
     },
     "execution_count": 15,
     "metadata": {},
     "output_type": "execute_result"
    }
   ],
   "source": [
    "X_train['Embarked'].dropna().mode()"
   ]
  },
  {
   "cell_type": "markdown",
   "id": "4df043dd",
   "metadata": {},
   "source": [
    "## Model Building"
   ]
  },
  {
   "cell_type": "markdown",
   "id": "b5a61976",
   "metadata": {},
   "source": [
    "### Creating Pipeline"
   ]
  },
  {
   "cell_type": "code",
   "execution_count": 16,
   "id": "b92829cf",
   "metadata": {},
   "outputs": [],
   "source": [
    "from sklearn.base import BaseEstimator, TransformerMixin"
   ]
  },
  {
   "cell_type": "code",
   "execution_count": 18,
   "id": "8c292f5d",
   "metadata": {
    "execution": {
     "iopub.execute_input": "2023-05-16T17:30:11.778791Z",
     "iopub.status.busy": "2023-05-16T17:30:11.778190Z",
     "iopub.status.idle": "2023-05-16T17:30:11.783822Z",
     "shell.execute_reply": "2023-05-16T17:30:11.783057Z"
    },
    "papermill": {
     "duration": 0.026399,
     "end_time": "2023-05-16T17:30:11.785950",
     "exception": false,
     "start_time": "2023-05-16T17:30:11.759551",
     "status": "completed"
    },
    "tags": []
   },
   "outputs": [],
   "source": [
    "class AgeImputer(BaseEstimator, TransformerMixin):\n",
    "    \n",
    "    def fit(self, X, y=None):\n",
    "        return self\n",
    "    \n",
    "    def transform(self, X):\n",
    "        mean_ages = X.groupby('Pclass')['Age'].mean()\n",
    "        X['Age'] = X['Age'].fillna(X['Pclass'].map(mean_ages))\n",
    "        return X"
   ]
  },
  {
   "cell_type": "code",
   "execution_count": 19,
   "id": "a8f53aae",
   "metadata": {
    "execution": {
     "iopub.execute_input": "2023-05-16T17:30:11.822226Z",
     "iopub.status.busy": "2023-05-16T17:30:11.820987Z",
     "iopub.status.idle": "2023-05-16T17:30:11.831617Z",
     "shell.execute_reply": "2023-05-16T17:30:11.830206Z"
    },
    "papermill": {
     "duration": 0.031615,
     "end_time": "2023-05-16T17:30:11.834386",
     "exception": false,
     "start_time": "2023-05-16T17:30:11.802771",
     "status": "completed"
    },
    "tags": []
   },
   "outputs": [],
   "source": [
    "from sklearn.preprocessing import OneHotEncoder\n",
    "\n",
    "class FeatureEncoder(BaseEstimator, TransformerMixin):\n",
    "    \n",
    "    def fit(self, X, y=None):\n",
    "        return self\n",
    "    \n",
    "    def transform(self, X):\n",
    "        \n",
    "        encoder = OneHotEncoder(sparse_output=False, handle_unknown='ignore')\n",
    "        X['Embarked'].fillna('S', inplace=True)\n",
    "        OH_cols = pd.DataFrame(encoder.fit_transform(X[['Embarked']]), columns=encoder.get_feature_names_out())\n",
    "        OH_cols.index = X.index\n",
    "        X = pd.concat([X, OH_cols], axis=1)\n",
    "        X.drop('Embarked', axis=1, inplace=True)\n",
    "        \n",
    "        OH_cols = pd.DataFrame(encoder.fit_transform(X[['Sex']]), columns=encoder.get_feature_names_out())\n",
    "        OH_cols.index = X.index\n",
    "        X = pd.concat([X, OH_cols], axis=1)\n",
    "        X.drop('Sex', axis=1, inplace=True)\n",
    "        return X"
   ]
  },
  {
   "cell_type": "code",
   "execution_count": 20,
   "id": "1e75fcbc",
   "metadata": {
    "execution": {
     "iopub.execute_input": "2023-05-16T17:30:11.870361Z",
     "iopub.status.busy": "2023-05-16T17:30:11.869909Z",
     "iopub.status.idle": "2023-05-16T17:30:11.875886Z",
     "shell.execute_reply": "2023-05-16T17:30:11.874848Z"
    },
    "papermill": {
     "duration": 0.02658,
     "end_time": "2023-05-16T17:30:11.878086",
     "exception": false,
     "start_time": "2023-05-16T17:30:11.851506",
     "status": "completed"
    },
    "tags": []
   },
   "outputs": [],
   "source": [
    "class ColumnDropper(BaseEstimator, TransformerMixin):\n",
    "    \n",
    "    def fit(self, X, y=None):\n",
    "        return self\n",
    "    \n",
    "    def transform(self, X):\n",
    "        return X.drop(['Cabin', 'Name', 'Ticket'], axis=1)"
   ]
  },
  {
   "cell_type": "code",
   "execution_count": 21,
   "id": "7bc55881",
   "metadata": {
    "execution": {
     "iopub.execute_input": "2023-05-16T17:30:11.913525Z",
     "iopub.status.busy": "2023-05-16T17:30:11.913126Z",
     "iopub.status.idle": "2023-05-16T17:30:11.926771Z",
     "shell.execute_reply": "2023-05-16T17:30:11.925623Z"
    },
    "papermill": {
     "duration": 0.034547,
     "end_time": "2023-05-16T17:30:11.929439",
     "exception": false,
     "start_time": "2023-05-16T17:30:11.894892",
     "status": "completed"
    },
    "tags": []
   },
   "outputs": [],
   "source": [
    "from sklearn.pipeline import Pipeline\n",
    "from sklearn.preprocessing import StandardScaler"
   ]
  },
  {
   "cell_type": "code",
   "execution_count": 22,
   "id": "3fe69c8b",
   "metadata": {
    "execution": {
     "iopub.execute_input": "2023-05-16T17:30:11.966539Z",
     "iopub.status.busy": "2023-05-16T17:30:11.966167Z",
     "iopub.status.idle": "2023-05-16T17:30:11.971390Z",
     "shell.execute_reply": "2023-05-16T17:30:11.970280Z"
    },
    "papermill": {
     "duration": 0.025571,
     "end_time": "2023-05-16T17:30:11.973511",
     "exception": false,
     "start_time": "2023-05-16T17:30:11.947940",
     "status": "completed"
    },
    "tags": []
   },
   "outputs": [],
   "source": [
    "pipeline = Pipeline(steps = [\n",
    "    ('coldrop', ColumnDropper()),\n",
    "    ('imputer', AgeImputer()),\n",
    "    ('encoder', FeatureEncoder())\n",
    "])"
   ]
  },
  {
   "cell_type": "code",
   "execution_count": 23,
   "id": "2a36bd39",
   "metadata": {
    "execution": {
     "iopub.execute_input": "2023-05-16T17:30:12.103380Z",
     "iopub.status.busy": "2023-05-16T17:30:12.102953Z",
     "iopub.status.idle": "2023-05-16T17:30:12.159115Z",
     "shell.execute_reply": "2023-05-16T17:30:12.157441Z"
    },
    "papermill": {
     "duration": 0.078407,
     "end_time": "2023-05-16T17:30:12.162702",
     "exception": false,
     "start_time": "2023-05-16T17:30:12.084295",
     "status": "completed"
    },
    "tags": []
   },
   "outputs": [
    {
     "name": "stdout",
     "output_type": "stream",
     "text": [
      "     PassengerId  Pclass        Age  SibSp  Parch      Fare  Embarked_C  \\\n",
      "298          299       1  38.097143      0      0   30.5000         0.0   \n",
      "884          885       3  25.000000      0      0    7.0500         0.0   \n",
      "247          248       2  24.000000      0      2   14.5000         0.0   \n",
      "478          479       3  22.000000      0      0    7.5208         0.0   \n",
      "305          306       1   0.920000      1      2  151.5500         0.0   \n",
      "\n",
      "     Embarked_Q  Embarked_S  Sex_female  Sex_male  \n",
      "298         0.0         1.0         0.0       1.0  \n",
      "884         0.0         1.0         0.0       1.0  \n",
      "247         0.0         1.0         1.0       0.0  \n",
      "478         0.0         1.0         0.0       1.0  \n",
      "305         0.0         1.0         0.0       1.0  \n"
     ]
    },
    {
     "data": {
      "text/html": [
       "<div>\n",
       "<style scoped>\n",
       "    .dataframe tbody tr th:only-of-type {\n",
       "        vertical-align: middle;\n",
       "    }\n",
       "\n",
       "    .dataframe tbody tr th {\n",
       "        vertical-align: top;\n",
       "    }\n",
       "\n",
       "    .dataframe thead th {\n",
       "        text-align: right;\n",
       "    }\n",
       "</style>\n",
       "<table border=\"1\" class=\"dataframe\">\n",
       "  <thead>\n",
       "    <tr style=\"text-align: right;\">\n",
       "      <th></th>\n",
       "      <th>PassengerId</th>\n",
       "      <th>Pclass</th>\n",
       "      <th>Age</th>\n",
       "      <th>SibSp</th>\n",
       "      <th>Parch</th>\n",
       "      <th>Fare</th>\n",
       "      <th>Embarked_C</th>\n",
       "      <th>Embarked_Q</th>\n",
       "      <th>Embarked_S</th>\n",
       "      <th>Sex_female</th>\n",
       "      <th>Sex_male</th>\n",
       "    </tr>\n",
       "  </thead>\n",
       "  <tbody>\n",
       "    <tr>\n",
       "      <th>709</th>\n",
       "      <td>710</td>\n",
       "      <td>3</td>\n",
       "      <td>25.759036</td>\n",
       "      <td>1</td>\n",
       "      <td>1</td>\n",
       "      <td>15.2458</td>\n",
       "      <td>1.0</td>\n",
       "      <td>0.0</td>\n",
       "      <td>0.0</td>\n",
       "      <td>0.0</td>\n",
       "      <td>1.0</td>\n",
       "    </tr>\n",
       "    <tr>\n",
       "      <th>439</th>\n",
       "      <td>440</td>\n",
       "      <td>2</td>\n",
       "      <td>31.000000</td>\n",
       "      <td>0</td>\n",
       "      <td>0</td>\n",
       "      <td>10.5000</td>\n",
       "      <td>0.0</td>\n",
       "      <td>0.0</td>\n",
       "      <td>1.0</td>\n",
       "      <td>0.0</td>\n",
       "      <td>1.0</td>\n",
       "    </tr>\n",
       "    <tr>\n",
       "      <th>840</th>\n",
       "      <td>841</td>\n",
       "      <td>3</td>\n",
       "      <td>20.000000</td>\n",
       "      <td>0</td>\n",
       "      <td>0</td>\n",
       "      <td>7.9250</td>\n",
       "      <td>0.0</td>\n",
       "      <td>0.0</td>\n",
       "      <td>1.0</td>\n",
       "      <td>0.0</td>\n",
       "      <td>1.0</td>\n",
       "    </tr>\n",
       "    <tr>\n",
       "      <th>720</th>\n",
       "      <td>721</td>\n",
       "      <td>2</td>\n",
       "      <td>6.000000</td>\n",
       "      <td>0</td>\n",
       "      <td>1</td>\n",
       "      <td>33.0000</td>\n",
       "      <td>0.0</td>\n",
       "      <td>0.0</td>\n",
       "      <td>1.0</td>\n",
       "      <td>1.0</td>\n",
       "      <td>0.0</td>\n",
       "    </tr>\n",
       "    <tr>\n",
       "      <th>39</th>\n",
       "      <td>40</td>\n",
       "      <td>3</td>\n",
       "      <td>14.000000</td>\n",
       "      <td>1</td>\n",
       "      <td>0</td>\n",
       "      <td>11.2417</td>\n",
       "      <td>1.0</td>\n",
       "      <td>0.0</td>\n",
       "      <td>0.0</td>\n",
       "      <td>1.0</td>\n",
       "      <td>0.0</td>\n",
       "    </tr>\n",
       "  </tbody>\n",
       "</table>\n",
       "</div>"
      ],
      "text/plain": [
       "     PassengerId  Pclass        Age  SibSp  Parch     Fare  Embarked_C  \\\n",
       "709          710       3  25.759036      1      1  15.2458         1.0   \n",
       "439          440       2  31.000000      0      0  10.5000         0.0   \n",
       "840          841       3  20.000000      0      0   7.9250         0.0   \n",
       "720          721       2   6.000000      0      1  33.0000         0.0   \n",
       "39            40       3  14.000000      1      0  11.2417         1.0   \n",
       "\n",
       "     Embarked_Q  Embarked_S  Sex_female  Sex_male  \n",
       "709         0.0         0.0         0.0       1.0  \n",
       "439         0.0         1.0         0.0       1.0  \n",
       "840         0.0         1.0         0.0       1.0  \n",
       "720         0.0         1.0         1.0       0.0  \n",
       "39          0.0         0.0         1.0       0.0  "
      ]
     },
     "execution_count": 23,
     "metadata": {},
     "output_type": "execute_result"
    }
   ],
   "source": [
    "X_train_new = pipeline.fit_transform(X_train, y_train)\n",
    "X_test_new = pipeline.transform(X_test)\n",
    "\n",
    "\n",
    "print(X_train_new.head())\n",
    "X_test_new.head()"
   ]
  },
  {
   "cell_type": "code",
   "execution_count": 24,
   "id": "292839e1",
   "metadata": {
    "execution": {
     "iopub.execute_input": "2023-05-16T17:30:12.206978Z",
     "iopub.status.busy": "2023-05-16T17:30:12.206230Z",
     "iopub.status.idle": "2023-05-16T17:30:12.733134Z",
     "shell.execute_reply": "2023-05-16T17:30:12.732320Z"
    },
    "papermill": {
     "duration": 0.54959,
     "end_time": "2023-05-16T17:30:12.736259",
     "exception": false,
     "start_time": "2023-05-16T17:30:12.186669",
     "status": "completed"
    },
    "tags": []
   },
   "outputs": [
    {
     "data": {
      "image/png": "[encoded data removed]",
      "text/plain": [
       "<Figure size 640x480 with 2 Axes>"
      ]
     },
     "metadata": {},
     "output_type": "display_data"
    }
   ],
   "source": [
    "sns.heatmap(X_train_new.isnull(), cmap='viridis')\n",
    "plt.show()"
   ]
  },
  {
   "cell_type": "code",
   "execution_count": 25,
   "id": "890f95f8",
   "metadata": {
    "execution": {
     "iopub.execute_input": "2023-05-16T17:30:12.775293Z",
     "iopub.status.busy": "2023-05-16T17:30:12.774374Z",
     "iopub.status.idle": "2023-05-16T17:30:12.789772Z",
     "shell.execute_reply": "2023-05-16T17:30:12.788135Z"
    },
    "papermill": {
     "duration": 0.037415,
     "end_time": "2023-05-16T17:30:12.792232",
     "exception": false,
     "start_time": "2023-05-16T17:30:12.754817",
     "status": "completed"
    },
    "tags": []
   },
   "outputs": [
    {
     "name": "stdout",
     "output_type": "stream",
     "text": [
      "<class 'pandas.core.frame.DataFrame'>\n",
      "Index: 668 entries, 298 to 102\n",
      "Data columns (total 11 columns):\n",
      " #   Column       Non-Null Count  Dtype  \n",
      "---  ------       --------------  -----  \n",
      " 0   PassengerId  668 non-null    int64  \n",
      " 1   Pclass       668 non-null    int64  \n",
      " 2   Age          668 non-null    float64\n",
      " 3   SibSp        668 non-null    int64  \n",
      " 4   Parch        668 non-null    int64  \n",
      " 5   Fare         668 non-null    float64\n",
      " 6   Embarked_C   668 non-null    float64\n",
      " 7   Embarked_Q   668 non-null    float64\n",
      " 8   Embarked_S   668 non-null    float64\n",
      " 9   Sex_female   668 non-null    float64\n",
      " 10  Sex_male     668 non-null    float64\n",
      "dtypes: float64(7), int64(4)\n",
      "memory usage: 62.6 KB\n"
     ]
    }
   ],
   "source": [
    "X_train_new.info()"
   ]
  },
  {
   "cell_type": "markdown",
   "id": "8e7a0f93",
   "metadata": {},
   "source": [
    "### Random Forest Model"
   ]
  },
  {
   "cell_type": "code",
   "execution_count": 26,
   "id": "4fcaedb0",
   "metadata": {
    "execution": {
     "iopub.execute_input": "2023-05-16T17:30:12.832336Z",
     "iopub.status.busy": "2023-05-16T17:30:12.831204Z",
     "iopub.status.idle": "2023-05-16T17:30:13.212821Z",
     "shell.execute_reply": "2023-05-16T17:30:13.211680Z"
    },
    "papermill": {
     "duration": 0.404158,
     "end_time": "2023-05-16T17:30:13.215526",
     "exception": false,
     "start_time": "2023-05-16T17:30:12.811368",
     "status": "completed"
    },
    "tags": []
   },
   "outputs": [],
   "source": [
    "from sklearn.ensemble import RandomForestClassifier\n",
    "from sklearn.model_selection import GridSearchCV"
   ]
  },
  {
   "cell_type": "code",
   "execution_count": 27,
   "id": "68ed5f03",
   "metadata": {
    "execution": {
     "iopub.execute_input": "2023-05-16T17:30:13.255134Z",
     "iopub.status.busy": "2023-05-16T17:30:13.254580Z",
     "iopub.status.idle": "2023-05-16T17:30:13.261136Z",
     "shell.execute_reply": "2023-05-16T17:30:13.260162Z"
    },
    "papermill": {
     "duration": 0.029156,
     "end_time": "2023-05-16T17:30:13.263282",
     "exception": false,
     "start_time": "2023-05-16T17:30:13.234126",
     "status": "completed"
    },
    "tags": []
   },
   "outputs": [],
   "source": [
    "rfc = RandomForestClassifier()\n",
    "\n",
    "param_grid = {\n",
    "    'n_estimators' : [50, 100, 200, 500, 600],\n",
    "    'max_depth' : [5, 10, 20],\n",
    "    'min_samples_split' : [2, 5, 10, 15]\n",
    "}\n",
    "\n",
    "gridcv = GridSearchCV(estimator=rfc, param_grid=param_grid, verbose=3)"
   ]
  },
  {
   "cell_type": "markdown",
   "id": "a9a2cac2",
   "metadata": {},
   "source": [
    "### Hyperparameter Tuning"
   ]
  },
  {
   "cell_type": "code",
   "execution_count": 28,
   "id": "cd3b92c1",
   "metadata": {
    "_kg_hide-output": true,
    "execution": {
     "iopub.execute_input": "2023-05-16T17:30:13.302940Z",
     "iopub.status.busy": "2023-05-16T17:30:13.302549Z",
     "iopub.status.idle": "2023-05-16T17:34:06.237277Z",
     "shell.execute_reply": "2023-05-16T17:34:06.235956Z"
    },
    "papermill": {
     "duration": 232.95705,
     "end_time": "2023-05-16T17:34:06.239702",
     "exception": false,
     "start_time": "2023-05-16T17:30:13.282652",
     "status": "completed"
    },
    "scrolled": true,
    "tags": []
   },
   "outputs": [
    {
     "name": "stdout",
     "output_type": "stream",
     "text": [
      "Fitting 5 folds for each of 60 candidates, totalling 300 fits\n",
      "[CV 1/5] END max_depth=5, min_samples_split=2, n_estimators=50;, score=0.784 total time=   0.0s\n",
      "[CV 2/5] END max_depth=5, min_samples_split=2, n_estimators=50;, score=0.866 total time=   0.0s\n",
      "[CV 3/5] END max_depth=5, min_samples_split=2, n_estimators=50;, score=0.799 total time=   0.0s\n",
      "[CV 4/5] END max_depth=5, min_samples_split=2, n_estimators=50;, score=0.797 total time=   0.0s\n",
      "[CV 5/5] END max_depth=5, min_samples_split=2, n_estimators=50;, score=0.827 total time=   0.0s\n",
      "[CV 1/5] END max_depth=5, min_samples_split=2, n_estimators=100;, score=0.784 total time=   0.1s\n",
      "[CV 2/5] END max_depth=5, min_samples_split=2, n_estimators=100;, score=0.881 total time=   0.1s\n",
      "[CV 3/5] END max_depth=5, min_samples_split=2, n_estimators=100;, score=0.806 total time=   0.1s\n",
      "[CV 4/5] END max_depth=5, min_samples_split=2, n_estimators=100;, score=0.782 total time=   0.1s\n",
      "[CV 5/5] END max_depth=5, min_samples_split=2, n_estimators=100;, score=0.835 total time=   0.1s\n",
      "[CV 1/5] END max_depth=5, min_samples_split=2, n_estimators=200;, score=0.799 total time=   0.2s\n",
      "[CV 2/5] END max_depth=5, min_samples_split=2, n_estimators=200;, score=0.873 total time=   0.2s\n",
      "[CV 3/5] END max_depth=5, min_samples_split=2, n_estimators=200;, score=0.791 total time=   0.3s\n",
      "[CV 4/5] END max_depth=5, min_samples_split=2, n_estimators=200;, score=0.789 total time=   0.2s\n",
      "[CV 5/5] END max_depth=5, min_samples_split=2, n_estimators=200;, score=0.835 total time=   0.2s\n",
      "[CV 1/5] END max_depth=5, min_samples_split=2, n_estimators=500;, score=0.784 total time=   0.7s\n",
      "[CV 2/5] END max_depth=5, min_samples_split=2, n_estimators=500;, score=0.881 total time=   0.6s\n",
      "[CV 3/5] END max_depth=5, min_samples_split=2, n_estimators=500;, score=0.791 total time=   0.7s\n",
      "[CV 4/5] END max_depth=5, min_samples_split=2, n_estimators=500;, score=0.797 total time=   0.8s\n",
      "[CV 5/5] END max_depth=5, min_samples_split=2, n_estimators=500;, score=0.835 total time=   0.6s\n",
      "[CV 1/5] END max_depth=5, min_samples_split=2, n_estimators=600;, score=0.799 total time=   0.8s\n",
      "[CV 2/5] END max_depth=5, min_samples_split=2, n_estimators=600;, score=0.873 total time=   0.8s\n",
      "[CV 3/5] END max_depth=5, min_samples_split=2, n_estimators=600;, score=0.791 total time=   0.8s\n",
      "[CV 4/5] END max_depth=5, min_samples_split=2, n_estimators=600;, score=0.789 total time=   0.8s\n",
      "[CV 5/5] END max_depth=5, min_samples_split=2, n_estimators=600;, score=0.835 total time=   0.8s\n",
      "[CV 1/5] END max_depth=5, min_samples_split=5, n_estimators=50;, score=0.791 total time=   0.0s\n",
      "[CV 2/5] END max_depth=5, min_samples_split=5, n_estimators=50;, score=0.873 total time=   0.0s\n",
      "[CV 3/5] END max_depth=5, min_samples_split=5, n_estimators=50;, score=0.791 total time=   0.0s\n",
      "[CV 4/5] END max_depth=5, min_samples_split=5, n_estimators=50;, score=0.789 total time=   0.0s\n",
      "[CV 5/5] END max_depth=5, min_samples_split=5, n_estimators=50;, score=0.835 total time=   0.0s\n",
      "[CV 1/5] END max_depth=5, min_samples_split=5, n_estimators=100;, score=0.799 total time=   0.1s\n",
      "[CV 2/5] END max_depth=5, min_samples_split=5, n_estimators=100;, score=0.873 total time=   0.1s\n",
      "[CV 3/5] END max_depth=5, min_samples_split=5, n_estimators=100;, score=0.791 total time=   0.1s\n",
      "[CV 4/5] END max_depth=5, min_samples_split=5, n_estimators=100;, score=0.805 total time=   0.0s\n",
      "[CV 5/5] END max_depth=5, min_samples_split=5, n_estimators=100;, score=0.842 total time=   0.0s\n",
      "[CV 1/5] END max_depth=5, min_samples_split=5, n_estimators=200;, score=0.784 total time=   0.2s\n",
      "[CV 2/5] END max_depth=5, min_samples_split=5, n_estimators=200;, score=0.881 total time=   0.2s\n",
      "[CV 3/5] END max_depth=5, min_samples_split=5, n_estimators=200;, score=0.806 total time=   0.2s\n",
      "[CV 4/5] END max_depth=5, min_samples_split=5, n_estimators=200;, score=0.782 total time=   0.2s\n",
      "[CV 5/5] END max_depth=5, min_samples_split=5, n_estimators=200;, score=0.827 total time=   0.2s\n",
      "[CV 1/5] END max_depth=5, min_samples_split=5, n_estimators=500;, score=0.799 total time=   0.6s\n",
      "[CV 2/5] END max_depth=5, min_samples_split=5, n_estimators=500;, score=0.873 total time=   0.6s\n",
      "[CV 3/5] END max_depth=5, min_samples_split=5, n_estimators=500;, score=0.799 total time=   0.7s\n",
      "[CV 4/5] END max_depth=5, min_samples_split=5, n_estimators=500;, score=0.789 total time=   0.7s\n",
      "[CV 5/5] END max_depth=5, min_samples_split=5, n_estimators=500;, score=0.827 total time=   0.6s\n",
      "[CV 1/5] END max_depth=5, min_samples_split=5, n_estimators=600;, score=0.791 total time=   0.8s\n",
      "[CV 2/5] END max_depth=5, min_samples_split=5, n_estimators=600;, score=0.881 total time=   0.8s\n",
      "[CV 3/5] END max_depth=5, min_samples_split=5, n_estimators=600;, score=0.784 total time=   0.8s\n",
      "[CV 4/5] END max_depth=5, min_samples_split=5, n_estimators=600;, score=0.789 total time=   0.8s\n",
      "[CV 5/5] END max_depth=5, min_samples_split=5, n_estimators=600;, score=0.827 total time=   0.8s\n",
      "[CV 1/5] END max_depth=5, min_samples_split=10, n_estimators=50;, score=0.799 total time=   0.0s\n",
      "[CV 2/5] END max_depth=5, min_samples_split=10, n_estimators=50;, score=0.873 total time=   0.0s\n",
      "[CV 3/5] END max_depth=5, min_samples_split=10, n_estimators=50;, score=0.799 total time=   0.0s\n",
      "[CV 4/5] END max_depth=5, min_samples_split=10, n_estimators=50;, score=0.805 total time=   0.0s\n",
      "[CV 5/5] END max_depth=5, min_samples_split=10, n_estimators=50;, score=0.835 total time=   0.0s\n",
      "[CV 1/5] END max_depth=5, min_samples_split=10, n_estimators=100;, score=0.791 total time=   0.1s\n",
      "[CV 2/5] END max_depth=5, min_samples_split=10, n_estimators=100;, score=0.881 total time=   0.1s\n",
      "[CV 3/5] END max_depth=5, min_samples_split=10, n_estimators=100;, score=0.791 total time=   0.1s\n",
      "[CV 4/5] END max_depth=5, min_samples_split=10, n_estimators=100;, score=0.782 total time=   0.1s\n",
      "[CV 5/5] END max_depth=5, min_samples_split=10, n_estimators=100;, score=0.835 total time=   0.1s\n",
      "[CV 1/5] END max_depth=5, min_samples_split=10, n_estimators=200;, score=0.799 total time=   0.2s\n",
      "[CV 2/5] END max_depth=5, min_samples_split=10, n_estimators=200;, score=0.888 total time=   0.2s\n",
      "[CV 3/5] END max_depth=5, min_samples_split=10, n_estimators=200;, score=0.791 total time=   0.2s\n",
      "[CV 4/5] END max_depth=5, min_samples_split=10, n_estimators=200;, score=0.782 total time=   0.2s\n",
      "[CV 5/5] END max_depth=5, min_samples_split=10, n_estimators=200;, score=0.842 total time=   0.2s\n",
      "[CV 1/5] END max_depth=5, min_samples_split=10, n_estimators=500;, score=0.791 total time=   0.6s\n",
      "[CV 2/5] END max_depth=5, min_samples_split=10, n_estimators=500;, score=0.873 total time=   0.6s\n",
      "[CV 3/5] END max_depth=5, min_samples_split=10, n_estimators=500;, score=0.784 total time=   0.6s\n",
      "[CV 4/5] END max_depth=5, min_samples_split=10, n_estimators=500;, score=0.789 total time=   0.6s\n",
      "[CV 5/5] END max_depth=5, min_samples_split=10, n_estimators=500;, score=0.842 total time=   0.6s\n",
      "[CV 1/5] END max_depth=5, min_samples_split=10, n_estimators=600;, score=0.784 total time=   0.8s\n",
      "[CV 2/5] END max_depth=5, min_samples_split=10, n_estimators=600;, score=0.881 total time=   0.7s\n",
      "[CV 3/5] END max_depth=5, min_samples_split=10, n_estimators=600;, score=0.784 total time=   0.7s\n",
      "[CV 4/5] END max_depth=5, min_samples_split=10, n_estimators=600;, score=0.789 total time=   0.8s\n",
      "[CV 5/5] END max_depth=5, min_samples_split=10, n_estimators=600;, score=0.835 total time=   0.8s\n",
      "[CV 1/5] END max_depth=5, min_samples_split=15, n_estimators=50;, score=0.799 total time=   0.0s\n",
      "[CV 2/5] END max_depth=5, min_samples_split=15, n_estimators=50;, score=0.881 total time=   0.0s\n",
      "[CV 3/5] END max_depth=5, min_samples_split=15, n_estimators=50;, score=0.776 total time=   0.0s\n",
      "[CV 4/5] END max_depth=5, min_samples_split=15, n_estimators=50;, score=0.782 total time=   0.0s\n",
      "[CV 5/5] END max_depth=5, min_samples_split=15, n_estimators=50;, score=0.835 total time=   0.0s\n",
      "[CV 1/5] END max_depth=5, min_samples_split=15, n_estimators=100;, score=0.791 total time=   0.1s\n",
      "[CV 2/5] END max_depth=5, min_samples_split=15, n_estimators=100;, score=0.881 total time=   0.0s\n",
      "[CV 3/5] END max_depth=5, min_samples_split=15, n_estimators=100;, score=0.784 total time=   0.1s\n",
      "[CV 4/5] END max_depth=5, min_samples_split=15, n_estimators=100;, score=0.797 total time=   0.0s\n",
      "[CV 5/5] END max_depth=5, min_samples_split=15, n_estimators=100;, score=0.835 total time=   0.1s\n",
      "[CV 1/5] END max_depth=5, min_samples_split=15, n_estimators=200;, score=0.776 total time=   0.2s\n",
      "[CV 2/5] END max_depth=5, min_samples_split=15, n_estimators=200;, score=0.881 total time=   0.2s\n",
      "[CV 3/5] END max_depth=5, min_samples_split=15, n_estimators=200;, score=0.799 total time=   0.2s\n",
      "[CV 4/5] END max_depth=5, min_samples_split=15, n_estimators=200;, score=0.774 total time=   0.2s\n",
      "[CV 5/5] END max_depth=5, min_samples_split=15, n_estimators=200;, score=0.827 total time=   0.2s\n",
      "[CV 1/5] END max_depth=5, min_samples_split=15, n_estimators=500;, score=0.791 total time=   0.6s\n",
      "[CV 2/5] END max_depth=5, min_samples_split=15, n_estimators=500;, score=0.873 total time=   0.6s\n",
      "[CV 3/5] END max_depth=5, min_samples_split=15, n_estimators=500;, score=0.776 total time=   0.6s\n",
      "[CV 4/5] END max_depth=5, min_samples_split=15, n_estimators=500;, score=0.797 total time=   0.6s\n",
      "[CV 5/5] END max_depth=5, min_samples_split=15, n_estimators=500;, score=0.827 total time=   0.6s\n",
      "[CV 1/5] END max_depth=5, min_samples_split=15, n_estimators=600;, score=0.784 total time=   0.7s\n",
      "[CV 2/5] END max_depth=5, min_samples_split=15, n_estimators=600;, score=0.873 total time=   0.7s\n",
      "[CV 3/5] END max_depth=5, min_samples_split=15, n_estimators=600;, score=0.784 total time=   0.7s\n",
      "[CV 4/5] END max_depth=5, min_samples_split=15, n_estimators=600;, score=0.789 total time=   0.7s\n",
      "[CV 5/5] END max_depth=5, min_samples_split=15, n_estimators=600;, score=0.835 total time=   0.8s\n",
      "[CV 1/5] END max_depth=10, min_samples_split=2, n_estimators=50;, score=0.791 total time=   0.0s\n",
      "[CV 2/5] END max_depth=10, min_samples_split=2, n_estimators=50;, score=0.836 total time=   0.0s\n",
      "[CV 3/5] END max_depth=10, min_samples_split=2, n_estimators=50;, score=0.799 total time=   0.0s\n",
      "[CV 4/5] END max_depth=10, min_samples_split=2, n_estimators=50;, score=0.789 total time=   0.0s\n",
      "[CV 5/5] END max_depth=10, min_samples_split=2, n_estimators=50;, score=0.827 total time=   0.0s\n",
      "[CV 1/5] END max_depth=10, min_samples_split=2, n_estimators=100;, score=0.799 total time=   0.1s\n",
      "[CV 2/5] END max_depth=10, min_samples_split=2, n_estimators=100;, score=0.851 total time=   0.1s\n",
      "[CV 3/5] END max_depth=10, min_samples_split=2, n_estimators=100;, score=0.754 total time=   0.1s\n",
      "[CV 4/5] END max_depth=10, min_samples_split=2, n_estimators=100;, score=0.782 total time=   0.1s\n",
      "[CV 5/5] END max_depth=10, min_samples_split=2, n_estimators=100;, score=0.835 total time=   0.1s\n",
      "[CV 1/5] END max_depth=10, min_samples_split=2, n_estimators=200;, score=0.806 total time=   0.2s\n",
      "[CV 2/5] END max_depth=10, min_samples_split=2, n_estimators=200;, score=0.843 total time=   0.2s\n",
      "[CV 3/5] END max_depth=10, min_samples_split=2, n_estimators=200;, score=0.784 total time=   0.3s\n",
      "[CV 4/5] END max_depth=10, min_samples_split=2, n_estimators=200;, score=0.797 total time=   0.3s\n",
      "[CV 5/5] END max_depth=10, min_samples_split=2, n_estimators=200;, score=0.835 total time=   0.2s\n",
      "[CV 1/5] END max_depth=10, min_samples_split=2, n_estimators=500;, score=0.813 total time=   0.7s\n",
      "[CV 2/5] END max_depth=10, min_samples_split=2, n_estimators=500;, score=0.828 total time=   0.7s\n",
      "[CV 3/5] END max_depth=10, min_samples_split=2, n_estimators=500;, score=0.776 total time=   0.8s\n",
      "[CV 4/5] END max_depth=10, min_samples_split=2, n_estimators=500;, score=0.805 total time=   0.8s\n",
      "[CV 5/5] END max_depth=10, min_samples_split=2, n_estimators=500;, score=0.835 total time=   0.8s\n",
      "[CV 1/5] END max_depth=10, min_samples_split=2, n_estimators=600;, score=0.791 total time=   1.0s\n",
      "[CV 2/5] END max_depth=10, min_samples_split=2, n_estimators=600;, score=0.828 total time=   0.9s\n",
      "[CV 3/5] END max_depth=10, min_samples_split=2, n_estimators=600;, score=0.784 total time=   1.0s\n",
      "[CV 4/5] END max_depth=10, min_samples_split=2, n_estimators=600;, score=0.805 total time=   0.9s\n",
      "[CV 5/5] END max_depth=10, min_samples_split=2, n_estimators=600;, score=0.842 total time=   1.0s\n",
      "[CV 1/5] END max_depth=10, min_samples_split=5, n_estimators=50;, score=0.799 total time=   0.0s\n",
      "[CV 2/5] END max_depth=10, min_samples_split=5, n_estimators=50;, score=0.828 total time=   0.0s\n",
      "[CV 3/5] END max_depth=10, min_samples_split=5, n_estimators=50;, score=0.799 total time=   0.0s\n",
      "[CV 4/5] END max_depth=10, min_samples_split=5, n_estimators=50;, score=0.782 total time=   0.0s\n",
      "[CV 5/5] END max_depth=10, min_samples_split=5, n_estimators=50;, score=0.835 total time=   0.0s\n",
      "[CV 1/5] END max_depth=10, min_samples_split=5, n_estimators=100;, score=0.806 total time=   0.1s\n",
      "[CV 2/5] END max_depth=10, min_samples_split=5, n_estimators=100;, score=0.858 total time=   0.1s\n",
      "[CV 3/5] END max_depth=10, min_samples_split=5, n_estimators=100;, score=0.806 total time=   0.1s\n",
      "[CV 4/5] END max_depth=10, min_samples_split=5, n_estimators=100;, score=0.797 total time=   0.1s\n",
      "[CV 5/5] END max_depth=10, min_samples_split=5, n_estimators=100;, score=0.835 total time=   0.1s\n",
      "[CV 1/5] END max_depth=10, min_samples_split=5, n_estimators=200;, score=0.791 total time=   0.3s\n",
      "[CV 2/5] END max_depth=10, min_samples_split=5, n_estimators=200;, score=0.858 total time=   0.2s\n",
      "[CV 3/5] END max_depth=10, min_samples_split=5, n_estimators=200;, score=0.784 total time=   0.3s\n",
      "[CV 4/5] END max_depth=10, min_samples_split=5, n_estimators=200;, score=0.805 total time=   0.3s\n",
      "[CV 5/5] END max_depth=10, min_samples_split=5, n_estimators=200;, score=0.835 total time=   0.3s\n",
      "[CV 1/5] END max_depth=10, min_samples_split=5, n_estimators=500;, score=0.806 total time=   0.7s\n",
      "[CV 2/5] END max_depth=10, min_samples_split=5, n_estimators=500;, score=0.858 total time=   0.7s\n",
      "[CV 3/5] END max_depth=10, min_samples_split=5, n_estimators=500;, score=0.799 total time=   0.7s\n",
      "[CV 4/5] END max_depth=10, min_samples_split=5, n_estimators=500;, score=0.797 total time=   0.7s\n",
      "[CV 5/5] END max_depth=10, min_samples_split=5, n_estimators=500;, score=0.835 total time=   0.7s\n",
      "[CV 1/5] END max_depth=10, min_samples_split=5, n_estimators=600;, score=0.799 total time=   0.9s\n",
      "[CV 2/5] END max_depth=10, min_samples_split=5, n_estimators=600;, score=0.858 total time=   0.9s\n",
      "[CV 3/5] END max_depth=10, min_samples_split=5, n_estimators=600;, score=0.791 total time=   1.0s\n",
      "[CV 4/5] END max_depth=10, min_samples_split=5, n_estimators=600;, score=0.805 total time=   1.2s\n",
      "[CV 5/5] END max_depth=10, min_samples_split=5, n_estimators=600;, score=0.827 total time=   1.2s\n",
      "[CV 1/5] END max_depth=10, min_samples_split=10, n_estimators=50;, score=0.791 total time=   0.0s\n",
      "[CV 2/5] END max_depth=10, min_samples_split=10, n_estimators=50;, score=0.851 total time=   0.0s\n",
      "[CV 3/5] END max_depth=10, min_samples_split=10, n_estimators=50;, score=0.799 total time=   0.0s\n",
      "[CV 4/5] END max_depth=10, min_samples_split=10, n_estimators=50;, score=0.797 total time=   0.0s\n",
      "[CV 5/5] END max_depth=10, min_samples_split=10, n_estimators=50;, score=0.835 total time=   0.0s\n",
      "[CV 1/5] END max_depth=10, min_samples_split=10, n_estimators=100;, score=0.799 total time=   0.1s\n",
      "[CV 2/5] END max_depth=10, min_samples_split=10, n_estimators=100;, score=0.836 total time=   0.1s\n",
      "[CV 3/5] END max_depth=10, min_samples_split=10, n_estimators=100;, score=0.799 total time=   0.1s\n",
      "[CV 4/5] END max_depth=10, min_samples_split=10, n_estimators=100;, score=0.767 total time=   0.1s\n",
      "[CV 5/5] END max_depth=10, min_samples_split=10, n_estimators=100;, score=0.827 total time=   0.1s\n",
      "[CV 1/5] END max_depth=10, min_samples_split=10, n_estimators=200;, score=0.813 total time=   0.3s\n",
      "[CV 2/5] END max_depth=10, min_samples_split=10, n_estimators=200;, score=0.858 total time=   0.3s\n",
      "[CV 3/5] END max_depth=10, min_samples_split=10, n_estimators=200;, score=0.791 total time=   0.3s\n",
      "[CV 4/5] END max_depth=10, min_samples_split=10, n_estimators=200;, score=0.782 total time=   0.2s\n",
      "[CV 5/5] END max_depth=10, min_samples_split=10, n_estimators=200;, score=0.842 total time=   0.2s\n",
      "[CV 1/5] END max_depth=10, min_samples_split=10, n_estimators=500;, score=0.799 total time=   0.9s\n",
      "[CV 2/5] END max_depth=10, min_samples_split=10, n_estimators=500;, score=0.843 total time=   0.8s\n",
      "[CV 3/5] END max_depth=10, min_samples_split=10, n_estimators=500;, score=0.799 total time=   0.8s\n",
      "[CV 4/5] END max_depth=10, min_samples_split=10, n_estimators=500;, score=0.774 total time=   0.8s\n",
      "[CV 5/5] END max_depth=10, min_samples_split=10, n_estimators=500;, score=0.827 total time=   0.7s\n",
      "[CV 1/5] END max_depth=10, min_samples_split=10, n_estimators=600;, score=0.799 total time=   0.9s\n",
      "[CV 2/5] END max_depth=10, min_samples_split=10, n_estimators=600;, score=0.851 total time=   0.9s\n",
      "[CV 3/5] END max_depth=10, min_samples_split=10, n_estimators=600;, score=0.791 total time=   0.9s\n",
      "[CV 4/5] END max_depth=10, min_samples_split=10, n_estimators=600;, score=0.789 total time=   0.9s\n",
      "[CV 5/5] END max_depth=10, min_samples_split=10, n_estimators=600;, score=0.827 total time=   0.9s\n",
      "[CV 1/5] END max_depth=10, min_samples_split=15, n_estimators=50;, score=0.791 total time=   0.0s\n",
      "[CV 2/5] END max_depth=10, min_samples_split=15, n_estimators=50;, score=0.851 total time=   0.0s\n",
      "[CV 3/5] END max_depth=10, min_samples_split=15, n_estimators=50;, score=0.799 total time=   0.0s\n",
      "[CV 4/5] END max_depth=10, min_samples_split=15, n_estimators=50;, score=0.782 total time=   0.0s\n",
      "[CV 5/5] END max_depth=10, min_samples_split=15, n_estimators=50;, score=0.820 total time=   0.0s\n",
      "[CV 1/5] END max_depth=10, min_samples_split=15, n_estimators=100;, score=0.799 total time=   0.1s\n",
      "[CV 2/5] END max_depth=10, min_samples_split=15, n_estimators=100;, score=0.866 total time=   0.1s\n",
      "[CV 3/5] END max_depth=10, min_samples_split=15, n_estimators=100;, score=0.799 total time=   0.1s\n",
      "[CV 4/5] END max_depth=10, min_samples_split=15, n_estimators=100;, score=0.774 total time=   0.1s\n",
      "[CV 5/5] END max_depth=10, min_samples_split=15, n_estimators=100;, score=0.835 total time=   0.1s\n",
      "[CV 1/5] END max_depth=10, min_samples_split=15, n_estimators=200;, score=0.806 total time=   0.2s\n",
      "[CV 2/5] END max_depth=10, min_samples_split=15, n_estimators=200;, score=0.836 total time=   0.2s\n",
      "[CV 3/5] END max_depth=10, min_samples_split=15, n_estimators=200;, score=0.799 total time=   0.2s\n",
      "[CV 4/5] END max_depth=10, min_samples_split=15, n_estimators=200;, score=0.774 total time=   0.3s\n",
      "[CV 5/5] END max_depth=10, min_samples_split=15, n_estimators=200;, score=0.835 total time=   0.2s\n",
      "[CV 1/5] END max_depth=10, min_samples_split=15, n_estimators=500;, score=0.806 total time=   0.7s\n",
      "[CV 2/5] END max_depth=10, min_samples_split=15, n_estimators=500;, score=0.866 total time=   0.7s\n",
      "[CV 3/5] END max_depth=10, min_samples_split=15, n_estimators=500;, score=0.776 total time=   0.7s\n",
      "[CV 4/5] END max_depth=10, min_samples_split=15, n_estimators=500;, score=0.767 total time=   0.7s\n",
      "[CV 5/5] END max_depth=10, min_samples_split=15, n_estimators=500;, score=0.842 total time=   0.7s\n",
      "[CV 1/5] END max_depth=10, min_samples_split=15, n_estimators=600;, score=0.799 total time=   0.9s\n",
      "[CV 2/5] END max_depth=10, min_samples_split=15, n_estimators=600;, score=0.858 total time=   0.8s\n",
      "[CV 3/5] END max_depth=10, min_samples_split=15, n_estimators=600;, score=0.799 total time=   0.8s\n",
      "[CV 4/5] END max_depth=10, min_samples_split=15, n_estimators=600;, score=0.789 total time=   0.8s\n",
      "[CV 5/5] END max_depth=10, min_samples_split=15, n_estimators=600;, score=0.835 total time=   0.9s\n",
      "[CV 1/5] END max_depth=20, min_samples_split=2, n_estimators=50;, score=0.791 total time=   0.0s\n",
      "[CV 2/5] END max_depth=20, min_samples_split=2, n_estimators=50;, score=0.821 total time=   0.0s\n",
      "[CV 3/5] END max_depth=20, min_samples_split=2, n_estimators=50;, score=0.761 total time=   0.0s\n",
      "[CV 4/5] END max_depth=20, min_samples_split=2, n_estimators=50;, score=0.782 total time=   0.0s\n",
      "[CV 5/5] END max_depth=20, min_samples_split=2, n_estimators=50;, score=0.842 total time=   0.0s\n",
      "[CV 1/5] END max_depth=20, min_samples_split=2, n_estimators=100;, score=0.799 total time=   0.1s\n",
      "[CV 2/5] END max_depth=20, min_samples_split=2, n_estimators=100;, score=0.836 total time=   0.1s\n",
      "[CV 3/5] END max_depth=20, min_samples_split=2, n_estimators=100;, score=0.746 total time=   0.1s\n",
      "[CV 4/5] END max_depth=20, min_samples_split=2, n_estimators=100;, score=0.797 total time=   0.1s\n",
      "[CV 5/5] END max_depth=20, min_samples_split=2, n_estimators=100;, score=0.835 total time=   0.1s\n",
      "[CV 1/5] END max_depth=20, min_samples_split=2, n_estimators=200;, score=0.799 total time=   0.3s\n",
      "[CV 2/5] END max_depth=20, min_samples_split=2, n_estimators=200;, score=0.806 total time=   0.3s\n",
      "[CV 3/5] END max_depth=20, min_samples_split=2, n_estimators=200;, score=0.769 total time=   0.3s\n",
      "[CV 4/5] END max_depth=20, min_samples_split=2, n_estimators=200;, score=0.805 total time=   0.3s\n",
      "[CV 5/5] END max_depth=20, min_samples_split=2, n_estimators=200;, score=0.835 total time=   0.3s\n",
      "[CV 1/5] END max_depth=20, min_samples_split=2, n_estimators=500;, score=0.813 total time=   0.8s\n",
      "[CV 2/5] END max_depth=20, min_samples_split=2, n_estimators=500;, score=0.836 total time=   0.8s\n",
      "[CV 3/5] END max_depth=20, min_samples_split=2, n_estimators=500;, score=0.784 total time=   0.8s\n",
      "[CV 4/5] END max_depth=20, min_samples_split=2, n_estimators=500;, score=0.812 total time=   0.8s\n",
      "[CV 5/5] END max_depth=20, min_samples_split=2, n_estimators=500;, score=0.842 total time=   0.9s\n",
      "[CV 1/5] END max_depth=20, min_samples_split=2, n_estimators=600;, score=0.806 total time=   1.0s\n",
      "[CV 2/5] END max_depth=20, min_samples_split=2, n_estimators=600;, score=0.828 total time=   1.0s\n",
      "[CV 3/5] END max_depth=20, min_samples_split=2, n_estimators=600;, score=0.761 total time=   1.0s\n",
      "[CV 4/5] END max_depth=20, min_samples_split=2, n_estimators=600;, score=0.789 total time=   1.0s\n",
      "[CV 5/5] END max_depth=20, min_samples_split=2, n_estimators=600;, score=0.835 total time=   1.0s\n",
      "[CV 1/5] END max_depth=20, min_samples_split=5, n_estimators=50;, score=0.791 total time=   0.0s\n",
      "[CV 2/5] END max_depth=20, min_samples_split=5, n_estimators=50;, score=0.873 total time=   0.0s\n",
      "[CV 3/5] END max_depth=20, min_samples_split=5, n_estimators=50;, score=0.791 total time=   0.0s\n",
      "[CV 4/5] END max_depth=20, min_samples_split=5, n_estimators=50;, score=0.797 total time=   0.0s\n",
      "[CV 5/5] END max_depth=20, min_samples_split=5, n_estimators=50;, score=0.827 total time=   0.0s\n",
      "[CV 1/5] END max_depth=20, min_samples_split=5, n_estimators=100;, score=0.799 total time=   0.1s\n",
      "[CV 2/5] END max_depth=20, min_samples_split=5, n_estimators=100;, score=0.858 total time=   0.1s\n",
      "[CV 3/5] END max_depth=20, min_samples_split=5, n_estimators=100;, score=0.784 total time=   0.1s\n",
      "[CV 4/5] END max_depth=20, min_samples_split=5, n_estimators=100;, score=0.805 total time=   0.1s\n",
      "[CV 5/5] END max_depth=20, min_samples_split=5, n_estimators=100;, score=0.842 total time=   0.1s\n",
      "[CV 1/5] END max_depth=20, min_samples_split=5, n_estimators=200;, score=0.806 total time=   0.3s\n",
      "[CV 2/5] END max_depth=20, min_samples_split=5, n_estimators=200;, score=0.836 total time=   0.3s\n",
      "[CV 3/5] END max_depth=20, min_samples_split=5, n_estimators=200;, score=0.784 total time=   0.3s\n",
      "[CV 4/5] END max_depth=20, min_samples_split=5, n_estimators=200;, score=0.789 total time=   0.3s\n",
      "[CV 5/5] END max_depth=20, min_samples_split=5, n_estimators=200;, score=0.835 total time=   0.3s\n",
      "[CV 1/5] END max_depth=20, min_samples_split=5, n_estimators=500;, score=0.806 total time=   0.8s\n",
      "[CV 2/5] END max_depth=20, min_samples_split=5, n_estimators=500;, score=0.851 total time=   0.8s\n",
      "[CV 3/5] END max_depth=20, min_samples_split=5, n_estimators=500;, score=0.791 total time=   0.8s\n",
      "[CV 4/5] END max_depth=20, min_samples_split=5, n_estimators=500;, score=0.805 total time=   0.8s\n",
      "[CV 5/5] END max_depth=20, min_samples_split=5, n_estimators=500;, score=0.850 total time=   0.8s\n",
      "[CV 1/5] END max_depth=20, min_samples_split=5, n_estimators=600;, score=0.813 total time=   1.0s\n",
      "[CV 2/5] END max_depth=20, min_samples_split=5, n_estimators=600;, score=0.851 total time=   1.0s\n",
      "[CV 3/5] END max_depth=20, min_samples_split=5, n_estimators=600;, score=0.791 total time=   1.1s\n",
      "[CV 4/5] END max_depth=20, min_samples_split=5, n_estimators=600;, score=0.812 total time=   1.0s\n",
      "[CV 5/5] END max_depth=20, min_samples_split=5, n_estimators=600;, score=0.835 total time=   1.1s\n",
      "[CV 1/5] END max_depth=20, min_samples_split=10, n_estimators=50;, score=0.813 total time=   0.0s\n",
      "[CV 2/5] END max_depth=20, min_samples_split=10, n_estimators=50;, score=0.843 total time=   0.0s\n",
      "[CV 3/5] END max_depth=20, min_samples_split=10, n_estimators=50;, score=0.791 total time=   0.0s\n",
      "[CV 4/5] END max_depth=20, min_samples_split=10, n_estimators=50;, score=0.767 total time=   0.0s\n",
      "[CV 5/5] END max_depth=20, min_samples_split=10, n_estimators=50;, score=0.850 total time=   0.0s\n",
      "[CV 1/5] END max_depth=20, min_samples_split=10, n_estimators=100;, score=0.799 total time=   0.1s\n",
      "[CV 2/5] END max_depth=20, min_samples_split=10, n_estimators=100;, score=0.851 total time=   0.1s\n",
      "[CV 3/5] END max_depth=20, min_samples_split=10, n_estimators=100;, score=0.806 total time=   0.1s\n",
      "[CV 4/5] END max_depth=20, min_samples_split=10, n_estimators=100;, score=0.805 total time=   0.1s\n",
      "[CV 5/5] END max_depth=20, min_samples_split=10, n_estimators=100;, score=0.842 total time=   0.1s\n",
      "[CV 1/5] END max_depth=20, min_samples_split=10, n_estimators=200;, score=0.791 total time=   0.3s\n",
      "[CV 2/5] END max_depth=20, min_samples_split=10, n_estimators=200;, score=0.858 total time=   0.3s\n",
      "[CV 3/5] END max_depth=20, min_samples_split=10, n_estimators=200;, score=0.806 total time=   0.3s\n",
      "[CV 4/5] END max_depth=20, min_samples_split=10, n_estimators=200;, score=0.782 total time=   0.3s\n",
      "[CV 5/5] END max_depth=20, min_samples_split=10, n_estimators=200;, score=0.842 total time=   0.3s\n",
      "[CV 1/5] END max_depth=20, min_samples_split=10, n_estimators=500;, score=0.806 total time=   0.8s\n",
      "[CV 2/5] END max_depth=20, min_samples_split=10, n_estimators=500;, score=0.851 total time=   0.8s\n",
      "[CV 3/5] END max_depth=20, min_samples_split=10, n_estimators=500;, score=0.806 total time=   0.7s\n",
      "[CV 4/5] END max_depth=20, min_samples_split=10, n_estimators=500;, score=0.805 total time=   0.7s\n",
      "[CV 5/5] END max_depth=20, min_samples_split=10, n_estimators=500;, score=0.842 total time=   0.7s\n",
      "[CV 1/5] END max_depth=20, min_samples_split=10, n_estimators=600;, score=0.791 total time=   0.9s\n",
      "[CV 2/5] END max_depth=20, min_samples_split=10, n_estimators=600;, score=0.836 total time=   0.9s\n",
      "[CV 3/5] END max_depth=20, min_samples_split=10, n_estimators=600;, score=0.799 total time=   0.9s\n",
      "[CV 4/5] END max_depth=20, min_samples_split=10, n_estimators=600;, score=0.789 total time=   1.0s\n",
      "[CV 5/5] END max_depth=20, min_samples_split=10, n_estimators=600;, score=0.835 total time=   0.9s\n",
      "[CV 1/5] END max_depth=20, min_samples_split=15, n_estimators=50;, score=0.784 total time=   0.0s\n",
      "[CV 2/5] END max_depth=20, min_samples_split=15, n_estimators=50;, score=0.851 total time=   0.0s\n",
      "[CV 3/5] END max_depth=20, min_samples_split=15, n_estimators=50;, score=0.799 total time=   0.0s\n",
      "[CV 4/5] END max_depth=20, min_samples_split=15, n_estimators=50;, score=0.789 total time=   0.0s\n",
      "[CV 5/5] END max_depth=20, min_samples_split=15, n_estimators=50;, score=0.820 total time=   0.0s\n",
      "[CV 1/5] END max_depth=20, min_samples_split=15, n_estimators=100;, score=0.806 total time=   0.1s\n",
      "[CV 2/5] END max_depth=20, min_samples_split=15, n_estimators=100;, score=0.858 total time=   0.1s\n",
      "[CV 3/5] END max_depth=20, min_samples_split=15, n_estimators=100;, score=0.799 total time=   0.1s\n",
      "[CV 4/5] END max_depth=20, min_samples_split=15, n_estimators=100;, score=0.797 total time=   0.1s\n",
      "[CV 5/5] END max_depth=20, min_samples_split=15, n_estimators=100;, score=0.835 total time=   0.1s\n",
      "[CV 1/5] END max_depth=20, min_samples_split=15, n_estimators=200;, score=0.784 total time=   0.2s\n",
      "[CV 2/5] END max_depth=20, min_samples_split=15, n_estimators=200;, score=0.858 total time=   0.3s\n",
      "[CV 3/5] END max_depth=20, min_samples_split=15, n_estimators=200;, score=0.806 total time=   0.2s\n",
      "[CV 4/5] END max_depth=20, min_samples_split=15, n_estimators=200;, score=0.782 total time=   0.2s\n",
      "[CV 5/5] END max_depth=20, min_samples_split=15, n_estimators=200;, score=0.835 total time=   0.2s\n",
      "[CV 1/5] END max_depth=20, min_samples_split=15, n_estimators=500;, score=0.799 total time=   0.8s\n",
      "[CV 2/5] END max_depth=20, min_samples_split=15, n_estimators=500;, score=0.858 total time=   0.7s\n",
      "[CV 3/5] END max_depth=20, min_samples_split=15, n_estimators=500;, score=0.799 total time=   0.7s\n",
      "[CV 4/5] END max_depth=20, min_samples_split=15, n_estimators=500;, score=0.767 total time=   0.7s\n",
      "[CV 5/5] END max_depth=20, min_samples_split=15, n_estimators=500;, score=0.820 total time=   0.7s\n",
      "[CV 1/5] END max_depth=20, min_samples_split=15, n_estimators=600;, score=0.799 total time=   0.9s\n",
      "[CV 2/5] END max_depth=20, min_samples_split=15, n_estimators=600;, score=0.866 total time=   0.9s\n",
      "[CV 3/5] END max_depth=20, min_samples_split=15, n_estimators=600;, score=0.799 total time=   0.9s\n",
      "[CV 4/5] END max_depth=20, min_samples_split=15, n_estimators=600;, score=0.774 total time=   0.9s\n",
      "[CV 5/5] END max_depth=20, min_samples_split=15, n_estimators=600;, score=0.835 total time=   0.9s\n"
     ]
    },
    {
     "data": {
      "text/html": [
       "<style>#sk-container-id-1 {color: black;}#sk-container-id-1 pre{padding: 0;}#sk-container-id-1 div.sk-toggleable {background-color: white;}#sk-container-id-1 label.sk-toggleable__label {cursor: pointer;display: block;width: 100%;margin-bottom: 0;padding: 0.3em;box-sizing: border-box;text-align: center;}#sk-container-id-1 label.sk-toggleable__label-arrow:before {content: \"▸\";float: left;margin-right: 0.25em;color: #696969;}#sk-container-id-1 label.sk-toggleable__label-arrow:hover:before {color: black;}#sk-container-id-1 div.sk-estimator:hover label.sk-toggleable__label-arrow:before {color: black;}#sk-container-id-1 div.sk-toggleable__content {max-height: 0;max-width: 0;overflow: hidden;text-align: left;background-color: #f0f8ff;}#sk-container-id-1 div.sk-toggleable__content pre {margin: 0.2em;color: black;border-radius: 0.25em;background-color: #f0f8ff;}#sk-container-id-1 input.sk-toggleable__control:checked~div.sk-toggleable__content {max-height: 200px;max-width: 100%;overflow: auto;}#sk-container-id-1 input.sk-toggleable__control:checked~label.sk-toggleable__label-arrow:before {content: \"▾\";}#sk-container-id-1 div.sk-estimator input.sk-toggleable__control:checked~label.sk-toggleable__label {background-color: #d4ebff;}#sk-container-id-1 div.sk-label input.sk-toggleable__control:checked~label.sk-toggleable__label {background-color: #d4ebff;}#sk-container-id-1 input.sk-hidden--visually {border: 0;clip: rect(1px 1px 1px 1px);clip: rect(1px, 1px, 1px, 1px);height: 1px;margin: -1px;overflow: hidden;padding: 0;position: absolute;width: 1px;}#sk-container-id-1 div.sk-estimator {font-family: monospace;background-color: #f0f8ff;border: 1px dotted black;border-radius: 0.25em;box-sizing: border-box;margin-bottom: 0.5em;}#sk-container-id-1 div.sk-estimator:hover {background-color: #d4ebff;}#sk-container-id-1 div.sk-parallel-item::after {content: \"\";width: 100%;border-bottom: 1px solid gray;flex-grow: 1;}#sk-container-id-1 div.sk-label:hover label.sk-toggleable__label {background-color: #d4ebff;}#sk-container-id-1 div.sk-serial::before {content: \"\";position: absolute;border-left: 1px solid gray;box-sizing: border-box;top: 0;bottom: 0;left: 50%;z-index: 0;}#sk-container-id-1 div.sk-serial {display: flex;flex-direction: column;align-items: center;background-color: white;padding-right: 0.2em;padding-left: 0.2em;position: relative;}#sk-container-id-1 div.sk-item {position: relative;z-index: 1;}#sk-container-id-1 div.sk-parallel {display: flex;align-items: stretch;justify-content: center;background-color: white;position: relative;}#sk-container-id-1 div.sk-item::before, #sk-container-id-1 div.sk-parallel-item::before {content: \"\";position: absolute;border-left: 1px solid gray;box-sizing: border-box;top: 0;bottom: 0;left: 50%;z-index: -1;}#sk-container-id-1 div.sk-parallel-item {display: flex;flex-direction: column;z-index: 1;position: relative;background-color: white;}#sk-container-id-1 div.sk-parallel-item:first-child::after {align-self: flex-end;width: 50%;}#sk-container-id-1 div.sk-parallel-item:last-child::after {align-self: flex-start;width: 50%;}#sk-container-id-1 div.sk-parallel-item:only-child::after {width: 0;}#sk-container-id-1 div.sk-dashed-wrapped {border: 1px dashed gray;margin: 0 0.4em 0.5em 0.4em;box-sizing: border-box;padding-bottom: 0.4em;background-color: white;}#sk-container-id-1 div.sk-label label {font-family: monospace;font-weight: bold;display: inline-block;line-height: 1.2em;}#sk-container-id-1 div.sk-label-container {text-align: center;}#sk-container-id-1 div.sk-container {/* jupyter's `normalize.less` sets `[hidden] { display: none; }` but bootstrap.min.css set `[hidden] { display: none !important; }` so we also need the `!important` here to be able to override the default hidden behavior on the sphinx rendered scikit-learn.org. See: https://github.com/scikit-learn/scikit-learn/issues/21755 */display: inline-block !important;position: relative;}#sk-container-id-1 div.sk-text-repr-fallback {display: none;}</style><div id=\"sk-container-id-1\" class=\"sk-top-container\"><div class=\"sk-text-repr-fallback\"><pre>GridSearchCV(estimator=RandomForestClassifier(),\n",
       "             param_grid={&#x27;max_depth&#x27;: [5, 10, 20],\n",
       "                         &#x27;min_samples_split&#x27;: [2, 5, 10, 15],\n",
       "                         &#x27;n_estimators&#x27;: [50, 100, 200, 500, 600]},\n",
       "             verbose=3)</pre><b>In a Jupyter environment, please rerun this cell to show the HTML representation or trust the notebook. <br />On GitHub, the HTML representation is unable to render, please try loading this page with nbviewer.org.</b></div><div class=\"sk-container\" hidden><div class=\"sk-item sk-dashed-wrapped\"><div class=\"sk-label-container\"><div class=\"sk-label sk-toggleable\"><input class=\"sk-toggleable__control sk-hidden--visually\" id=\"sk-estimator-id-1\" type=\"checkbox\" ><label for=\"sk-estimator-id-1\" class=\"sk-toggleable__label sk-toggleable__label-arrow\">GridSearchCV</label><div class=\"sk-toggleable__content\"><pre>GridSearchCV(estimator=RandomForestClassifier(),\n",
       "             param_grid={&#x27;max_depth&#x27;: [5, 10, 20],\n",
       "                         &#x27;min_samples_split&#x27;: [2, 5, 10, 15],\n",
       "                         &#x27;n_estimators&#x27;: [50, 100, 200, 500, 600]},\n",
       "             verbose=3)</pre></div></div></div><div class=\"sk-parallel\"><div class=\"sk-parallel-item\"><div class=\"sk-item\"><div class=\"sk-label-container\"><div class=\"sk-label sk-toggleable\"><input class=\"sk-toggleable__control sk-hidden--visually\" id=\"sk-estimator-id-2\" type=\"checkbox\" ><label for=\"sk-estimator-id-2\" class=\"sk-toggleable__label sk-toggleable__label-arrow\">estimator: RandomForestClassifier</label><div class=\"sk-toggleable__content\"><pre>RandomForestClassifier()</pre></div></div></div><div class=\"sk-serial\"><div class=\"sk-item\"><div class=\"sk-estimator sk-toggleable\"><input class=\"sk-toggleable__control sk-hidden--visually\" id=\"sk-estimator-id-3\" type=\"checkbox\" ><label for=\"sk-estimator-id-3\" class=\"sk-toggleable__label sk-toggleable__label-arrow\">RandomForestClassifier</label><div class=\"sk-toggleable__content\"><pre>RandomForestClassifier()</pre></div></div></div></div></div></div></div></div></div></div>"
      ],
      "text/plain": [
       "GridSearchCV(estimator=RandomForestClassifier(),\n",
       "             param_grid={'max_depth': [5, 10, 20],\n",
       "                         'min_samples_split': [2, 5, 10, 15],\n",
       "                         'n_estimators': [50, 100, 200, 500, 600]},\n",
       "             verbose=3)"
      ]
     },
     "execution_count": 28,
     "metadata": {},
     "output_type": "execute_result"
    }
   ],
   "source": [
    "gridcv.fit(X_train_new, y_train)"
   ]
  },
  {
   "cell_type": "code",
   "execution_count": 29,
   "id": "d5b67174",
   "metadata": {
    "execution": {
     "iopub.execute_input": "2023-05-16T17:34:06.327148Z",
     "iopub.status.busy": "2023-05-16T17:34:06.326689Z",
     "iopub.status.idle": "2023-05-16T17:34:06.335742Z",
     "shell.execute_reply": "2023-05-16T17:34:06.334580Z"
    },
    "papermill": {
     "duration": 0.055959,
     "end_time": "2023-05-16T17:34:06.337915",
     "exception": false,
     "start_time": "2023-05-16T17:34:06.281956",
     "status": "completed"
    },
    "tags": []
   },
   "outputs": [
    {
     "data": {
      "text/plain": [
       "{'max_depth': 20, 'min_samples_split': 10, 'n_estimators': 500}"
      ]
     },
     "execution_count": 29,
     "metadata": {},
     "output_type": "execute_result"
    }
   ],
   "source": [
    "gridcv.best_params_"
   ]
  },
  {
   "cell_type": "markdown",
   "id": "d08a8875",
   "metadata": {},
   "source": [
    "### Validating the model"
   ]
  },
  {
   "cell_type": "code",
   "execution_count": 30,
   "id": "49c4b746",
   "metadata": {
    "execution": {
     "iopub.execute_input": "2023-05-16T17:34:06.424177Z",
     "iopub.status.busy": "2023-05-16T17:34:06.423757Z",
     "iopub.status.idle": "2023-05-16T17:34:06.439763Z",
     "shell.execute_reply": "2023-05-16T17:34:06.438815Z"
    },
    "papermill": {
     "duration": 0.061914,
     "end_time": "2023-05-16T17:34:06.442177",
     "exception": false,
     "start_time": "2023-05-16T17:34:06.380263",
     "status": "completed"
    },
    "tags": []
   },
   "outputs": [],
   "source": [
    "gridcv_pred = gridcv.predict(X_test_new)"
   ]
  },
  {
   "cell_type": "code",
   "execution_count": 31,
   "id": "608f5db3",
   "metadata": {
    "execution": {
     "iopub.execute_input": "2023-05-16T17:34:06.529275Z",
     "iopub.status.busy": "2023-05-16T17:34:06.528864Z",
     "iopub.status.idle": "2023-05-16T17:34:06.543038Z",
     "shell.execute_reply": "2023-05-16T17:34:06.541778Z"
    },
    "papermill": {
     "duration": 0.060144,
     "end_time": "2023-05-16T17:34:06.545536",
     "exception": false,
     "start_time": "2023-05-16T17:34:06.485392",
     "status": "completed"
    },
    "tags": []
   },
   "outputs": [
    {
     "name": "stdout",
     "output_type": "stream",
     "text": [
      "              precision    recall  f1-score   support\n",
      "\n",
      "           0       0.84      0.90      0.87       134\n",
      "           1       0.82      0.74      0.78        89\n",
      "\n",
      "    accuracy                           0.83       223\n",
      "   macro avg       0.83      0.82      0.82       223\n",
      "weighted avg       0.83      0.83      0.83       223\n",
      "\n"
     ]
    }
   ],
   "source": [
    "from sklearn.metrics import classification_report\n",
    "\n",
    "print(classification_report(y_test, gridcv_pred))"
   ]
  },
  {
   "cell_type": "code",
   "execution_count": 32,
   "id": "e0ceb098",
   "metadata": {},
   "outputs": [
    {
     "name": "stdout",
     "output_type": "stream",
     "text": [
      "0.8340807174887892\n"
     ]
    }
   ],
   "source": [
    "from sklearn.metrics import accuracy_score\n",
    "\n",
    "print(accuracy_score(y_true=y_test, y_pred=gridcv_pred))"
   ]
  },
  {
   "cell_type": "markdown",
   "id": "ed53ec49",
   "metadata": {},
   "source": [
    "##### Thus we got an accuraccy of about 83%."
   ]
  },
  {
   "cell_type": "markdown",
   "id": "b4221abd",
   "metadata": {},
   "source": [
    "## Thank You "
   ]
  }
 ],
 "metadata": {
  "kernelspec": {
   "display_name": "Python 3 (ipykernel)",
   "language": "python",
   "name": "python3"
  },
  "language_info": {
   "codemirror_mode": {
    "name": "ipython",
    "version": 3
   },
   "file_extension": ".py",
   "mimetype": "text/x-python",
   "name": "python",
   "nbconvert_exporter": "python",
   "pygments_lexer": "ipython3",
   "version": "3.9.18"
  },
  "papermill": {
   "default_parameters": {},
   "duration": 362.601475,
   "end_time": "2023-05-16T17:35:57.423440",
   "environment_variables": {},
   "exception": null,
   "input_path": "__notebook__.ipynb",
   "output_path": "__notebook__.ipynb",
   "parameters": {},
   "start_time": "2023-05-16T17:29:54.821965",
   "version": "2.4.0"
  }
 },
 "nbformat": 4,
 "nbformat_minor": 5
}
